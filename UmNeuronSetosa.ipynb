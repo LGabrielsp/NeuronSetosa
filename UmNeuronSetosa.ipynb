{
  "cells": [
    {
      "cell_type": "markdown",
      "metadata": {
        "id": "view-in-github",
        "colab_type": "text"
      },
      "source": [
        "<a href=\"https://colab.research.google.com/github/LGabrielsp/NeuronSetosa/blob/master/UmNeuronSetosa.ipynb\" target=\"_parent\"><img src=\"https://colab.research.google.com/assets/colab-badge.svg\" alt=\"Open In Colab\"/></a>"
      ]
    },
    {
      "cell_type": "markdown",
      "metadata": {
        "id": "kqDPptnYmIHb"
      },
      "source": [
        "# Código de uma rede neural de um neurônio"
      ]
    },
    {
      "cell_type": "markdown",
      "metadata": {
        "id": "FvAWLMKFmIHn"
      },
      "source": [
        "### Importamos as bibliotecas pandas, numpy e matplotlib e módulo datasets do sklearn"
      ]
    },
    {
      "cell_type": "code",
      "execution_count": null,
      "metadata": {
        "id": "gy1bTt4tmIHp"
      },
      "outputs": [],
      "source": [
        "import pandas as pd\n",
        "import numpy as np\n",
        "import matplotlib.pyplot as plt\n",
        "from sklearn.model_selection import train_test_split\n",
        "from sklearn import datasets"
      ]
    },
    {
      "cell_type": "markdown",
      "metadata": {
        "id": "cxXvTouNmIHv"
      },
      "source": [
        "# Criamos uma variável com o Bunch dos dados iris dataset"
      ]
    },
    {
      "cell_type": "code",
      "execution_count": null,
      "metadata": {
        "id": "uzr9sap5mIHx"
      },
      "outputs": [],
      "source": [
        "DF = datasets.load_iris()"
      ]
    },
    {
      "cell_type": "markdown",
      "metadata": {
        "id": "LuHYc6LxmIHy"
      },
      "source": [
        "# Mostrando que DF é um Bunch (uma estrutura de dados do sklearn similar ao dicionario)"
      ]
    },
    {
      "cell_type": "code",
      "execution_count": null,
      "metadata": {
        "id": "ctbuHGgYmIHz",
        "outputId": "c2e124b5-4163-4d8a-e248-006403ea1cb3",
        "colab": {
          "base_uri": "https://localhost:8080/"
        }
      },
      "outputs": [
        {
          "output_type": "execute_result",
          "data": {
            "text/plain": [
              "sklearn.utils.Bunch"
            ]
          },
          "metadata": {},
          "execution_count": 3
        }
      ],
      "source": [
        "type(DF)"
      ]
    },
    {
      "cell_type": "markdown",
      "metadata": {
        "id": "enbj-7ArmIH2"
      },
      "source": [
        "## DF.keys mostra as chaves dentro do dicionario que foi chamado"
      ]
    },
    {
      "cell_type": "code",
      "execution_count": null,
      "metadata": {
        "scrolled": true,
        "id": "wOVoCsX6mIH3",
        "outputId": "edc22123-6431-4339-e2bd-74e3987800e6",
        "colab": {
          "base_uri": "https://localhost:8080/"
        }
      },
      "outputs": [
        {
          "output_type": "execute_result",
          "data": {
            "text/plain": [
              "dict_keys(['data', 'target', 'frame', 'target_names', 'DESCR', 'feature_names', 'filename', 'data_module'])"
            ]
          },
          "metadata": {},
          "execution_count": 4
        }
      ],
      "source": [
        "DF.keys()"
      ]
    },
    {
      "cell_type": "markdown",
      "metadata": {
        "id": "KsFeJcuimIH5"
      },
      "source": [
        "### DF['data'] mostra os dados dentro da chave data"
      ]
    },
    {
      "cell_type": "code",
      "execution_count": null,
      "metadata": {
        "id": "r0HlveGsmIH6",
        "outputId": "7dc787e6-3e41-4275-c0d7-f5756e94e443",
        "colab": {
          "base_uri": "https://localhost:8080/"
        }
      },
      "outputs": [
        {
          "output_type": "execute_result",
          "data": {
            "text/plain": [
              "array([[5.1, 3.5, 1.4, 0.2],\n",
              "       [4.9, 3. , 1.4, 0.2],\n",
              "       [4.7, 3.2, 1.3, 0.2],\n",
              "       [4.6, 3.1, 1.5, 0.2],\n",
              "       [5. , 3.6, 1.4, 0.2],\n",
              "       [5.4, 3.9, 1.7, 0.4],\n",
              "       [4.6, 3.4, 1.4, 0.3],\n",
              "       [5. , 3.4, 1.5, 0.2],\n",
              "       [4.4, 2.9, 1.4, 0.2],\n",
              "       [4.9, 3.1, 1.5, 0.1],\n",
              "       [5.4, 3.7, 1.5, 0.2],\n",
              "       [4.8, 3.4, 1.6, 0.2],\n",
              "       [4.8, 3. , 1.4, 0.1],\n",
              "       [4.3, 3. , 1.1, 0.1],\n",
              "       [5.8, 4. , 1.2, 0.2],\n",
              "       [5.7, 4.4, 1.5, 0.4],\n",
              "       [5.4, 3.9, 1.3, 0.4],\n",
              "       [5.1, 3.5, 1.4, 0.3],\n",
              "       [5.7, 3.8, 1.7, 0.3],\n",
              "       [5.1, 3.8, 1.5, 0.3],\n",
              "       [5.4, 3.4, 1.7, 0.2],\n",
              "       [5.1, 3.7, 1.5, 0.4],\n",
              "       [4.6, 3.6, 1. , 0.2],\n",
              "       [5.1, 3.3, 1.7, 0.5],\n",
              "       [4.8, 3.4, 1.9, 0.2],\n",
              "       [5. , 3. , 1.6, 0.2],\n",
              "       [5. , 3.4, 1.6, 0.4],\n",
              "       [5.2, 3.5, 1.5, 0.2],\n",
              "       [5.2, 3.4, 1.4, 0.2],\n",
              "       [4.7, 3.2, 1.6, 0.2],\n",
              "       [4.8, 3.1, 1.6, 0.2],\n",
              "       [5.4, 3.4, 1.5, 0.4],\n",
              "       [5.2, 4.1, 1.5, 0.1],\n",
              "       [5.5, 4.2, 1.4, 0.2],\n",
              "       [4.9, 3.1, 1.5, 0.2],\n",
              "       [5. , 3.2, 1.2, 0.2],\n",
              "       [5.5, 3.5, 1.3, 0.2],\n",
              "       [4.9, 3.6, 1.4, 0.1],\n",
              "       [4.4, 3. , 1.3, 0.2],\n",
              "       [5.1, 3.4, 1.5, 0.2],\n",
              "       [5. , 3.5, 1.3, 0.3],\n",
              "       [4.5, 2.3, 1.3, 0.3],\n",
              "       [4.4, 3.2, 1.3, 0.2],\n",
              "       [5. , 3.5, 1.6, 0.6],\n",
              "       [5.1, 3.8, 1.9, 0.4],\n",
              "       [4.8, 3. , 1.4, 0.3],\n",
              "       [5.1, 3.8, 1.6, 0.2],\n",
              "       [4.6, 3.2, 1.4, 0.2],\n",
              "       [5.3, 3.7, 1.5, 0.2],\n",
              "       [5. , 3.3, 1.4, 0.2],\n",
              "       [7. , 3.2, 4.7, 1.4],\n",
              "       [6.4, 3.2, 4.5, 1.5],\n",
              "       [6.9, 3.1, 4.9, 1.5],\n",
              "       [5.5, 2.3, 4. , 1.3],\n",
              "       [6.5, 2.8, 4.6, 1.5],\n",
              "       [5.7, 2.8, 4.5, 1.3],\n",
              "       [6.3, 3.3, 4.7, 1.6],\n",
              "       [4.9, 2.4, 3.3, 1. ],\n",
              "       [6.6, 2.9, 4.6, 1.3],\n",
              "       [5.2, 2.7, 3.9, 1.4],\n",
              "       [5. , 2. , 3.5, 1. ],\n",
              "       [5.9, 3. , 4.2, 1.5],\n",
              "       [6. , 2.2, 4. , 1. ],\n",
              "       [6.1, 2.9, 4.7, 1.4],\n",
              "       [5.6, 2.9, 3.6, 1.3],\n",
              "       [6.7, 3.1, 4.4, 1.4],\n",
              "       [5.6, 3. , 4.5, 1.5],\n",
              "       [5.8, 2.7, 4.1, 1. ],\n",
              "       [6.2, 2.2, 4.5, 1.5],\n",
              "       [5.6, 2.5, 3.9, 1.1],\n",
              "       [5.9, 3.2, 4.8, 1.8],\n",
              "       [6.1, 2.8, 4. , 1.3],\n",
              "       [6.3, 2.5, 4.9, 1.5],\n",
              "       [6.1, 2.8, 4.7, 1.2],\n",
              "       [6.4, 2.9, 4.3, 1.3],\n",
              "       [6.6, 3. , 4.4, 1.4],\n",
              "       [6.8, 2.8, 4.8, 1.4],\n",
              "       [6.7, 3. , 5. , 1.7],\n",
              "       [6. , 2.9, 4.5, 1.5],\n",
              "       [5.7, 2.6, 3.5, 1. ],\n",
              "       [5.5, 2.4, 3.8, 1.1],\n",
              "       [5.5, 2.4, 3.7, 1. ],\n",
              "       [5.8, 2.7, 3.9, 1.2],\n",
              "       [6. , 2.7, 5.1, 1.6],\n",
              "       [5.4, 3. , 4.5, 1.5],\n",
              "       [6. , 3.4, 4.5, 1.6],\n",
              "       [6.7, 3.1, 4.7, 1.5],\n",
              "       [6.3, 2.3, 4.4, 1.3],\n",
              "       [5.6, 3. , 4.1, 1.3],\n",
              "       [5.5, 2.5, 4. , 1.3],\n",
              "       [5.5, 2.6, 4.4, 1.2],\n",
              "       [6.1, 3. , 4.6, 1.4],\n",
              "       [5.8, 2.6, 4. , 1.2],\n",
              "       [5. , 2.3, 3.3, 1. ],\n",
              "       [5.6, 2.7, 4.2, 1.3],\n",
              "       [5.7, 3. , 4.2, 1.2],\n",
              "       [5.7, 2.9, 4.2, 1.3],\n",
              "       [6.2, 2.9, 4.3, 1.3],\n",
              "       [5.1, 2.5, 3. , 1.1],\n",
              "       [5.7, 2.8, 4.1, 1.3],\n",
              "       [6.3, 3.3, 6. , 2.5],\n",
              "       [5.8, 2.7, 5.1, 1.9],\n",
              "       [7.1, 3. , 5.9, 2.1],\n",
              "       [6.3, 2.9, 5.6, 1.8],\n",
              "       [6.5, 3. , 5.8, 2.2],\n",
              "       [7.6, 3. , 6.6, 2.1],\n",
              "       [4.9, 2.5, 4.5, 1.7],\n",
              "       [7.3, 2.9, 6.3, 1.8],\n",
              "       [6.7, 2.5, 5.8, 1.8],\n",
              "       [7.2, 3.6, 6.1, 2.5],\n",
              "       [6.5, 3.2, 5.1, 2. ],\n",
              "       [6.4, 2.7, 5.3, 1.9],\n",
              "       [6.8, 3. , 5.5, 2.1],\n",
              "       [5.7, 2.5, 5. , 2. ],\n",
              "       [5.8, 2.8, 5.1, 2.4],\n",
              "       [6.4, 3.2, 5.3, 2.3],\n",
              "       [6.5, 3. , 5.5, 1.8],\n",
              "       [7.7, 3.8, 6.7, 2.2],\n",
              "       [7.7, 2.6, 6.9, 2.3],\n",
              "       [6. , 2.2, 5. , 1.5],\n",
              "       [6.9, 3.2, 5.7, 2.3],\n",
              "       [5.6, 2.8, 4.9, 2. ],\n",
              "       [7.7, 2.8, 6.7, 2. ],\n",
              "       [6.3, 2.7, 4.9, 1.8],\n",
              "       [6.7, 3.3, 5.7, 2.1],\n",
              "       [7.2, 3.2, 6. , 1.8],\n",
              "       [6.2, 2.8, 4.8, 1.8],\n",
              "       [6.1, 3. , 4.9, 1.8],\n",
              "       [6.4, 2.8, 5.6, 2.1],\n",
              "       [7.2, 3. , 5.8, 1.6],\n",
              "       [7.4, 2.8, 6.1, 1.9],\n",
              "       [7.9, 3.8, 6.4, 2. ],\n",
              "       [6.4, 2.8, 5.6, 2.2],\n",
              "       [6.3, 2.8, 5.1, 1.5],\n",
              "       [6.1, 2.6, 5.6, 1.4],\n",
              "       [7.7, 3. , 6.1, 2.3],\n",
              "       [6.3, 3.4, 5.6, 2.4],\n",
              "       [6.4, 3.1, 5.5, 1.8],\n",
              "       [6. , 3. , 4.8, 1.8],\n",
              "       [6.9, 3.1, 5.4, 2.1],\n",
              "       [6.7, 3.1, 5.6, 2.4],\n",
              "       [6.9, 3.1, 5.1, 2.3],\n",
              "       [5.8, 2.7, 5.1, 1.9],\n",
              "       [6.8, 3.2, 5.9, 2.3],\n",
              "       [6.7, 3.3, 5.7, 2.5],\n",
              "       [6.7, 3. , 5.2, 2.3],\n",
              "       [6.3, 2.5, 5. , 1.9],\n",
              "       [6.5, 3. , 5.2, 2. ],\n",
              "       [6.2, 3.4, 5.4, 2.3],\n",
              "       [5.9, 3. , 5.1, 1.8]])"
            ]
          },
          "metadata": {},
          "execution_count": 5
        }
      ],
      "source": [
        "DF['data']"
      ]
    },
    {
      "cell_type": "markdown",
      "metadata": {
        "id": "mcmCBc8LmIH7"
      },
      "source": [
        "### Nesta célula, são chamado os dados "
      ]
    },
    {
      "cell_type": "code",
      "execution_count": null,
      "metadata": {
        "id": "7AZuL6uDmIH7",
        "outputId": "63c77ef5-58f8-42e0-e560-530a850ca676",
        "colab": {
          "base_uri": "https://localhost:8080/"
        }
      },
      "outputs": [
        {
          "output_type": "execute_result",
          "data": {
            "text/plain": [
              "0      1.0\n",
              "1      1.0\n",
              "2      1.0\n",
              "3      1.0\n",
              "4      1.0\n",
              "      ... \n",
              "145   -1.0\n",
              "146   -1.0\n",
              "147   -1.0\n",
              "148   -1.0\n",
              "149   -1.0\n",
              "Name: E, Length: 150, dtype: float64"
            ]
          },
          "metadata": {},
          "execution_count": 6
        }
      ],
      "source": [
        "DF_iris = pd.DataFrame(DF.data, columns=['SL', 'SW', 'PL', 'PW' ])\n",
        "DF_iris['E'] = pd.Series(DF.target)\n",
        "DF_iris['E'].unique()\n",
        "DF_iris_new = DF_iris.replace({'E':{0 : 1.0, 1 : -1.0, 2 : -1.0}})\n",
        "DF_iris_new['E']"
      ]
    },
    {
      "cell_type": "code",
      "execution_count": null,
      "metadata": {
        "id": "PwLtYDGPmIH8",
        "outputId": "2c36ecc8-394c-4315-cef5-aae2d64b31a7",
        "colab": {
          "base_uri": "https://localhost:8080/",
          "height": 424
        }
      },
      "outputs": [
        {
          "output_type": "execute_result",
          "data": {
            "text/plain": [
              "      SL   SW   PL   PW    E\n",
              "0    5.1  3.5  1.4  0.2  1.0\n",
              "1    4.9  3.0  1.4  0.2  1.0\n",
              "2    4.7  3.2  1.3  0.2  1.0\n",
              "3    4.6  3.1  1.5  0.2  1.0\n",
              "4    5.0  3.6  1.4  0.2  1.0\n",
              "..   ...  ...  ...  ...  ...\n",
              "145  6.7  3.0  5.2  2.3 -1.0\n",
              "146  6.3  2.5  5.0  1.9 -1.0\n",
              "147  6.5  3.0  5.2  2.0 -1.0\n",
              "148  6.2  3.4  5.4  2.3 -1.0\n",
              "149  5.9  3.0  5.1  1.8 -1.0\n",
              "\n",
              "[150 rows x 5 columns]"
            ],
            "text/html": [
              "\n",
              "  <div id=\"df-80560107-8e39-4db4-9f89-63e1c4bb9a37\">\n",
              "    <div class=\"colab-df-container\">\n",
              "      <div>\n",
              "<style scoped>\n",
              "    .dataframe tbody tr th:only-of-type {\n",
              "        vertical-align: middle;\n",
              "    }\n",
              "\n",
              "    .dataframe tbody tr th {\n",
              "        vertical-align: top;\n",
              "    }\n",
              "\n",
              "    .dataframe thead th {\n",
              "        text-align: right;\n",
              "    }\n",
              "</style>\n",
              "<table border=\"1\" class=\"dataframe\">\n",
              "  <thead>\n",
              "    <tr style=\"text-align: right;\">\n",
              "      <th></th>\n",
              "      <th>SL</th>\n",
              "      <th>SW</th>\n",
              "      <th>PL</th>\n",
              "      <th>PW</th>\n",
              "      <th>E</th>\n",
              "    </tr>\n",
              "  </thead>\n",
              "  <tbody>\n",
              "    <tr>\n",
              "      <th>0</th>\n",
              "      <td>5.1</td>\n",
              "      <td>3.5</td>\n",
              "      <td>1.4</td>\n",
              "      <td>0.2</td>\n",
              "      <td>1.0</td>\n",
              "    </tr>\n",
              "    <tr>\n",
              "      <th>1</th>\n",
              "      <td>4.9</td>\n",
              "      <td>3.0</td>\n",
              "      <td>1.4</td>\n",
              "      <td>0.2</td>\n",
              "      <td>1.0</td>\n",
              "    </tr>\n",
              "    <tr>\n",
              "      <th>2</th>\n",
              "      <td>4.7</td>\n",
              "      <td>3.2</td>\n",
              "      <td>1.3</td>\n",
              "      <td>0.2</td>\n",
              "      <td>1.0</td>\n",
              "    </tr>\n",
              "    <tr>\n",
              "      <th>3</th>\n",
              "      <td>4.6</td>\n",
              "      <td>3.1</td>\n",
              "      <td>1.5</td>\n",
              "      <td>0.2</td>\n",
              "      <td>1.0</td>\n",
              "    </tr>\n",
              "    <tr>\n",
              "      <th>4</th>\n",
              "      <td>5.0</td>\n",
              "      <td>3.6</td>\n",
              "      <td>1.4</td>\n",
              "      <td>0.2</td>\n",
              "      <td>1.0</td>\n",
              "    </tr>\n",
              "    <tr>\n",
              "      <th>...</th>\n",
              "      <td>...</td>\n",
              "      <td>...</td>\n",
              "      <td>...</td>\n",
              "      <td>...</td>\n",
              "      <td>...</td>\n",
              "    </tr>\n",
              "    <tr>\n",
              "      <th>145</th>\n",
              "      <td>6.7</td>\n",
              "      <td>3.0</td>\n",
              "      <td>5.2</td>\n",
              "      <td>2.3</td>\n",
              "      <td>-1.0</td>\n",
              "    </tr>\n",
              "    <tr>\n",
              "      <th>146</th>\n",
              "      <td>6.3</td>\n",
              "      <td>2.5</td>\n",
              "      <td>5.0</td>\n",
              "      <td>1.9</td>\n",
              "      <td>-1.0</td>\n",
              "    </tr>\n",
              "    <tr>\n",
              "      <th>147</th>\n",
              "      <td>6.5</td>\n",
              "      <td>3.0</td>\n",
              "      <td>5.2</td>\n",
              "      <td>2.0</td>\n",
              "      <td>-1.0</td>\n",
              "    </tr>\n",
              "    <tr>\n",
              "      <th>148</th>\n",
              "      <td>6.2</td>\n",
              "      <td>3.4</td>\n",
              "      <td>5.4</td>\n",
              "      <td>2.3</td>\n",
              "      <td>-1.0</td>\n",
              "    </tr>\n",
              "    <tr>\n",
              "      <th>149</th>\n",
              "      <td>5.9</td>\n",
              "      <td>3.0</td>\n",
              "      <td>5.1</td>\n",
              "      <td>1.8</td>\n",
              "      <td>-1.0</td>\n",
              "    </tr>\n",
              "  </tbody>\n",
              "</table>\n",
              "<p>150 rows × 5 columns</p>\n",
              "</div>\n",
              "      <button class=\"colab-df-convert\" onclick=\"convertToInteractive('df-80560107-8e39-4db4-9f89-63e1c4bb9a37')\"\n",
              "              title=\"Convert this dataframe to an interactive table.\"\n",
              "              style=\"display:none;\">\n",
              "        \n",
              "  <svg xmlns=\"http://www.w3.org/2000/svg\" height=\"24px\"viewBox=\"0 0 24 24\"\n",
              "       width=\"24px\">\n",
              "    <path d=\"M0 0h24v24H0V0z\" fill=\"none\"/>\n",
              "    <path d=\"M18.56 5.44l.94 2.06.94-2.06 2.06-.94-2.06-.94-.94-2.06-.94 2.06-2.06.94zm-11 1L8.5 8.5l.94-2.06 2.06-.94-2.06-.94L8.5 2.5l-.94 2.06-2.06.94zm10 10l.94 2.06.94-2.06 2.06-.94-2.06-.94-.94-2.06-.94 2.06-2.06.94z\"/><path d=\"M17.41 7.96l-1.37-1.37c-.4-.4-.92-.59-1.43-.59-.52 0-1.04.2-1.43.59L10.3 9.45l-7.72 7.72c-.78.78-.78 2.05 0 2.83L4 21.41c.39.39.9.59 1.41.59.51 0 1.02-.2 1.41-.59l7.78-7.78 2.81-2.81c.8-.78.8-2.07 0-2.86zM5.41 20L4 18.59l7.72-7.72 1.47 1.35L5.41 20z\"/>\n",
              "  </svg>\n",
              "      </button>\n",
              "      \n",
              "  <style>\n",
              "    .colab-df-container {\n",
              "      display:flex;\n",
              "      flex-wrap:wrap;\n",
              "      gap: 12px;\n",
              "    }\n",
              "\n",
              "    .colab-df-convert {\n",
              "      background-color: #E8F0FE;\n",
              "      border: none;\n",
              "      border-radius: 50%;\n",
              "      cursor: pointer;\n",
              "      display: none;\n",
              "      fill: #1967D2;\n",
              "      height: 32px;\n",
              "      padding: 0 0 0 0;\n",
              "      width: 32px;\n",
              "    }\n",
              "\n",
              "    .colab-df-convert:hover {\n",
              "      background-color: #E2EBFA;\n",
              "      box-shadow: 0px 1px 2px rgba(60, 64, 67, 0.3), 0px 1px 3px 1px rgba(60, 64, 67, 0.15);\n",
              "      fill: #174EA6;\n",
              "    }\n",
              "\n",
              "    [theme=dark] .colab-df-convert {\n",
              "      background-color: #3B4455;\n",
              "      fill: #D2E3FC;\n",
              "    }\n",
              "\n",
              "    [theme=dark] .colab-df-convert:hover {\n",
              "      background-color: #434B5C;\n",
              "      box-shadow: 0px 1px 3px 1px rgba(0, 0, 0, 0.15);\n",
              "      filter: drop-shadow(0px 1px 2px rgba(0, 0, 0, 0.3));\n",
              "      fill: #FFFFFF;\n",
              "    }\n",
              "  </style>\n",
              "\n",
              "      <script>\n",
              "        const buttonEl =\n",
              "          document.querySelector('#df-80560107-8e39-4db4-9f89-63e1c4bb9a37 button.colab-df-convert');\n",
              "        buttonEl.style.display =\n",
              "          google.colab.kernel.accessAllowed ? 'block' : 'none';\n",
              "\n",
              "        async function convertToInteractive(key) {\n",
              "          const element = document.querySelector('#df-80560107-8e39-4db4-9f89-63e1c4bb9a37');\n",
              "          const dataTable =\n",
              "            await google.colab.kernel.invokeFunction('convertToInteractive',\n",
              "                                                     [key], {});\n",
              "          if (!dataTable) return;\n",
              "\n",
              "          const docLinkHtml = 'Like what you see? Visit the ' +\n",
              "            '<a target=\"_blank\" href=https://colab.research.google.com/notebooks/data_table.ipynb>data table notebook</a>'\n",
              "            + ' to learn more about interactive tables.';\n",
              "          element.innerHTML = '';\n",
              "          dataTable['output_type'] = 'display_data';\n",
              "          await google.colab.output.renderOutput(dataTable, element);\n",
              "          const docLink = document.createElement('div');\n",
              "          docLink.innerHTML = docLinkHtml;\n",
              "          element.appendChild(docLink);\n",
              "        }\n",
              "      </script>\n",
              "    </div>\n",
              "  </div>\n",
              "  "
            ]
          },
          "metadata": {},
          "execution_count": 7
        }
      ],
      "source": [
        "DF_iris_new"
      ]
    },
    {
      "cell_type": "code",
      "execution_count": null,
      "metadata": {
        "id": "OFg7--DDmIH8",
        "outputId": "a47d4751-ece9-40a2-87fb-3f701132f293",
        "colab": {
          "base_uri": "https://localhost:8080/"
        }
      },
      "outputs": [
        {
          "output_type": "execute_result",
          "data": {
            "text/plain": [
              "array([0, 1, 2])"
            ]
          },
          "metadata": {},
          "execution_count": 8
        }
      ],
      "source": [
        "DF_iris['E'].unique()"
      ]
    },
    {
      "cell_type": "code",
      "execution_count": null,
      "metadata": {
        "id": "NLjX6dgQmIH9",
        "outputId": "da38cbd7-b7e7-457d-a1f2-89830aa6ce99",
        "colab": {
          "base_uri": "https://localhost:8080/"
        }
      },
      "outputs": [
        {
          "output_type": "execute_result",
          "data": {
            "text/plain": [
              "pandas.core.series.Series"
            ]
          },
          "metadata": {},
          "execution_count": 9
        }
      ],
      "source": [
        "type(DF_iris['E'])"
      ]
    },
    {
      "cell_type": "markdown",
      "metadata": {
        "id": "NhompX6fmIH9"
      },
      "source": [
        "## Mostrando que os dados não estão balanceados. Ou seja, são 100 exemplos de não-setosa contra 50 de setosa"
      ]
    },
    {
      "cell_type": "code",
      "execution_count": null,
      "metadata": {
        "id": "vq3sh1qQmIH-",
        "outputId": "86b9b2a5-4442-4196-d746-7053094fcb5d",
        "colab": {
          "base_uri": "https://localhost:8080/"
        }
      },
      "outputs": [
        {
          "output_type": "execute_result",
          "data": {
            "text/plain": [
              "<matplotlib.axes._subplots.AxesSubplot at 0x7f08ad7ef910>"
            ]
          },
          "metadata": {},
          "execution_count": 10
        },
        {
          "output_type": "display_data",
          "data": {
            "text/plain": [
              "<Figure size 432x288 with 1 Axes>"
            ],
            "image/png": "[encoded data removed]"
          },
          "metadata": {
            "needs_background": "light"
          }
        }
      ],
      "source": [
        "DF_iris['E'].plot( kind = 'hist')"
      ]
    },
    {
      "cell_type": "markdown",
      "metadata": {
        "id": "_lHAq1vdmIH-"
      },
      "source": [
        "## O gráfico acima mostra a frequência antes da correção de dados"
      ]
    },
    {
      "cell_type": "markdown",
      "metadata": {
        "id": "TLDN1bPnmIH-"
      },
      "source": [
        "## Na célula abaixo é mostrado como fazer o balaceamento ao duplicar os dados de setosa"
      ]
    },
    {
      "cell_type": "code",
      "execution_count": null,
      "metadata": {
        "scrolled": true,
        "id": "r2wIxtuSmIH_",
        "outputId": "afe4b1a0-8256-4751-d083-b84abd3dfb84",
        "colab": {
          "base_uri": "https://localhost:8080/"
        }
      },
      "outputs": [
        {
          "output_type": "execute_result",
          "data": {
            "text/plain": [
              "<matplotlib.axes._subplots.AxesSubplot at 0x7f08ad6f8310>"
            ]
          },
          "metadata": {},
          "execution_count": 11
        },
        {
          "output_type": "display_data",
          "data": {
            "text/plain": [
              "<Figure size 432x288 with 1 Axes>"
            ],
            "image/png": "[encoded data removed]"
          },
          "metadata": {
            "needs_background": "light"
          }
        }
      ],
      "source": [
        "DF_iris_new = pd.concat([DF_iris_new.iloc[:50],DF_iris_new], ignore_index = True)\n",
        "DF_iris_new['E'].plot( kind = 'hist')"
      ]
    },
    {
      "cell_type": "markdown",
      "metadata": {
        "id": "qPcHfsEmmIH_"
      },
      "source": [
        "## O gráfico acima mostra a frequência após correção de dados."
      ]
    },
    {
      "cell_type": "markdown",
      "metadata": {
        "id": "vHUppzr_mIIA"
      },
      "source": [
        "## Nestas células serão feitas as divisões para treino e teste."
      ]
    },
    {
      "cell_type": "code",
      "execution_count": null,
      "metadata": {
        "id": "ufhqq1BvmIIA"
      },
      "outputs": [],
      "source": [
        "X = DF_iris_new.drop('E',axis=1).values\n",
        "y = DF_iris_new['E'].values"
      ]
    },
    {
      "cell_type": "code",
      "execution_count": null,
      "metadata": {
        "id": "QPIun1ermIIB",
        "outputId": "a553b4f7-4794-4c72-fbd2-0f49e5a8538a",
        "colab": {
          "base_uri": "https://localhost:8080/"
        }
      },
      "outputs": [
        {
          "output_type": "execute_result",
          "data": {
            "text/plain": [
              "(200, 200)"
            ]
          },
          "metadata": {},
          "execution_count": 13
        }
      ],
      "source": [
        "len(y), len(X)"
      ]
    },
    {
      "cell_type": "code",
      "execution_count": null,
      "metadata": {
        "id": "M3ove0I8mIIB",
        "outputId": "64bff3e0-d707-4de1-a7db-7711f5452b3b",
        "colab": {
          "base_uri": "https://localhost:8080/"
        }
      },
      "outputs": [
        {
          "output_type": "execute_result",
          "data": {
            "text/plain": [
              "numpy.ndarray"
            ]
          },
          "metadata": {},
          "execution_count": 14
        }
      ],
      "source": [
        "type(y)"
      ]
    },
    {
      "cell_type": "code",
      "execution_count": null,
      "metadata": {
        "id": "esBBZHDhmIIC"
      },
      "outputs": [],
      "source": [
        "X_train, X_test, y_train, y_test = train_test_split(X,y,test_size=0.1,random_state=78)\n"
      ]
    },
    {
      "cell_type": "markdown",
      "metadata": {
        "id": "HuD695QxmIIC"
      },
      "source": [
        "## Os dados, agora, estão balanceados, a porcentagem dos dados são de 49% e 51%, aproximadamente."
      ]
    },
    {
      "cell_type": "code",
      "execution_count": null,
      "metadata": {
        "id": "IXD8d9OEmIID",
        "outputId": "5875b62e-00c0-4338-c9ee-b24fb91121d7",
        "colab": {
          "base_uri": "https://localhost:8080/"
        }
      },
      "outputs": [
        {
          "output_type": "execute_result",
          "data": {
            "text/plain": [
              "(0.5111111111111111, 0.4888888888888889)"
            ]
          },
          "metadata": {},
          "execution_count": 16
        }
      ],
      "source": [
        "cont  = np.unique(y_train,return_counts = True)\n",
        "cont[1][0]/cont[1].sum(), cont[1][1]/cont[1].sum()"
      ]
    },
    {
      "cell_type": "markdown",
      "metadata": {
        "id": "fedHmX1PmIID"
      },
      "source": [
        "## São 180 exemplos para o treinamento."
      ]
    },
    {
      "cell_type": "code",
      "execution_count": null,
      "metadata": {
        "id": "vBahgIv-mIIE",
        "outputId": "c619012c-4c52-4127-ef31-7325f20f9f88",
        "colab": {
          "base_uri": "https://localhost:8080/"
        }
      },
      "outputs": [
        {
          "output_type": "execute_result",
          "data": {
            "text/plain": [
              "180"
            ]
          },
          "metadata": {},
          "execution_count": 17
        }
      ],
      "source": [
        "cont[1].sum()"
      ]
    },
    {
      "cell_type": "markdown",
      "metadata": {
        "id": "zYAK_vBlmIIE"
      },
      "source": [
        "## São 20 exemplos para o teste."
      ]
    },
    {
      "cell_type": "code",
      "execution_count": null,
      "metadata": {
        "id": "gvtUZIvdmIIE",
        "outputId": "46041587-a6ea-4bd5-88a5-7626fee34a0f",
        "colab": {
          "base_uri": "https://localhost:8080/"
        }
      },
      "outputs": [
        {
          "output_type": "execute_result",
          "data": {
            "text/plain": [
              "(20, (array([-1.,  1.]), array([ 8, 12])))"
            ]
          },
          "metadata": {},
          "execution_count": 18
        }
      ],
      "source": [
        "cont_test = np.unique(y_test, return_counts = True)\n",
        "cont_test[1].sum(), cont_test"
      ]
    },
    {
      "cell_type": "markdown",
      "metadata": {
        "id": "lWp-xy04mIIE"
      },
      "source": [
        "## Pesos e bias inicial."
      ]
    },
    {
      "cell_type": "markdown",
      "metadata": {
        "id": "H9A5mEOkmIIF"
      },
      "source": [
        "## O mesmo utilizado no código com pytorch."
      ]
    },
    {
      "cell_type": "code",
      "execution_count": null,
      "metadata": {
        "id": "j2BpuVRvmIIF",
        "outputId": "3cd7ef02-58d2-46e7-ce2e-9ed379f6313a",
        "colab": {
          "base_uri": "https://localhost:8080/"
        }
      },
      "outputs": [
        {
          "output_type": "execute_result",
          "data": {
            "text/plain": [
              "array([[ 0.3757, -0.2279, -0.0859,  0.2857]])"
            ]
          },
          "metadata": {},
          "execution_count": 19
        }
      ],
      "source": [
        "pesos = np.array([[ 0.3757, -0.2279, -0.0859,  0.2857]])\n",
        "pesos"
      ]
    },
    {
      "cell_type": "code",
      "execution_count": null,
      "metadata": {
        "id": "5Z0DpXUimIIF",
        "outputId": "d000e897-51c3-4c56-a1e3-dda1f7276d9d",
        "colab": {
          "base_uri": "https://localhost:8080/"
        }
      },
      "outputs": [
        {
          "output_type": "execute_result",
          "data": {
            "text/plain": [
              "array([[-0.387]])"
            ]
          },
          "metadata": {},
          "execution_count": 20
        }
      ],
      "source": [
        "bias = np.array([[-0.3870]])\n",
        "bias"
      ]
    },
    {
      "cell_type": "markdown",
      "metadata": {
        "id": "56_GY1yPmIIG"
      },
      "source": [
        "## Função neurônio."
      ]
    },
    {
      "cell_type": "code",
      "execution_count": null,
      "metadata": {
        "id": "nUIKe7IgmIIG"
      },
      "outputs": [],
      "source": [
        "def neuronio(x, w, b):\n",
        "    z = np.dot(w,x.T) + b\n",
        "    return np.tanh(z)"
      ]
    },
    {
      "cell_type": "markdown",
      "metadata": {
        "id": "igHp9lIVmIIG"
      },
      "source": [
        "## Função erro (cost function)."
      ]
    },
    {
      "cell_type": "code",
      "execution_count": null,
      "metadata": {
        "id": "TKYPV9LOmIIG"
      },
      "outputs": [],
      "source": [
        "def cost(x,y,w,b):\n",
        "    return (np.power((neuronio(x,w,b)-y),2)/2.0).mean() "
      ]
    },
    {
      "cell_type": "code",
      "execution_count": null,
      "metadata": {
        "id": "362UGW1GmIIH",
        "outputId": "31a4064c-d837-4593-c4f8-bbefab8feb82",
        "colab": {
          "base_uri": "https://localhost:8080/"
        }
      },
      "outputs": [
        {
          "output_type": "execute_result",
          "data": {
            "text/plain": [
              "12"
            ]
          },
          "metadata": {},
          "execution_count": 23
        }
      ],
      "source": [
        "\n",
        "(np.abs(y_test.reshape(1,-1) - neuronio(X_test,pesos,bias)) <= 1.0).sum()"
      ]
    },
    {
      "cell_type": "markdown",
      "metadata": {
        "id": "2_J9p8oKmIIH"
      },
      "source": [
        "## Função acerto."
      ]
    },
    {
      "cell_type": "code",
      "execution_count": null,
      "metadata": {
        "id": "YTc8ycQ0mIIH"
      },
      "outputs": [],
      "source": [
        "def acerto(x,y,w,b):\n",
        "    dif = np.abs(y.reshape(1,-1) - neuronio(x,w,b))\n",
        "    return (dif <= 1.0).sum()"
      ]
    },
    {
      "cell_type": "code",
      "execution_count": null,
      "metadata": {
        "id": "8C4oFZctmIII",
        "outputId": "1c705235-64fe-4ce7-b414-ef5d5de9acef",
        "colab": {
          "base_uri": "https://localhost:8080/"
        }
      },
      "outputs": [
        {
          "output_type": "execute_result",
          "data": {
            "text/plain": [
              "12"
            ]
          },
          "metadata": {},
          "execution_count": 25
        }
      ],
      "source": [
        "acerto(X_test, y_test, pesos, bias)"
      ]
    },
    {
      "cell_type": "markdown",
      "metadata": {
        "id": "ODA3Bt54mIII"
      },
      "source": [
        "## Calculando delta."
      ]
    },
    {
      "cell_type": "code",
      "execution_count": null,
      "metadata": {
        "id": "5QYcrdQ0mIIJ"
      },
      "outputs": [],
      "source": [
        "def delta(x, y, w, b):\n",
        "    z = np.dot(w,x.T) + b\n",
        "    return (1.0 - np.tanh(z)**2.0)*(np.tanh(z)-y)"
      ]
    },
    {
      "cell_type": "markdown",
      "metadata": {
        "id": "VR2sLrQ-mIIJ"
      },
      "source": [
        "## Verificando se os shapes estão ok."
      ]
    },
    {
      "cell_type": "code",
      "execution_count": null,
      "metadata": {
        "id": "knjtVSRumIIJ",
        "outputId": "dc49cc3e-f565-4b1d-8912-261d6521f100",
        "colab": {
          "base_uri": "https://localhost:8080/"
        }
      },
      "outputs": [
        {
          "output_type": "execute_result",
          "data": {
            "text/plain": [
              "((180, 4), (1, 4), (1, 1))"
            ]
          },
          "metadata": {},
          "execution_count": 27
        }
      ],
      "source": [
        "X_train.shape, pesos.shape, bias.shape"
      ]
    },
    {
      "cell_type": "code",
      "execution_count": null,
      "metadata": {
        "id": "Zc2n1uJLmIIJ",
        "outputId": "2016f375-83a6-4c89-b573-661aeadf6dd6",
        "colab": {
          "base_uri": "https://localhost:8080/"
        }
      },
      "outputs": [
        {
          "output_type": "execute_result",
          "data": {
            "text/plain": [
              "0.09210809014805971"
            ]
          },
          "metadata": {},
          "execution_count": 28
        }
      ],
      "source": [
        "dC_db = delta(X_train,y_train,pesos,bias).mean()\n",
        "dC_db"
      ]
    },
    {
      "cell_type": "code",
      "execution_count": null,
      "metadata": {
        "id": "Q0JS68NxmIIK"
      },
      "outputs": [],
      "source": [
        "dC_dw = X_train * delta(X_train,y_train,pesos,bias).T"
      ]
    },
    {
      "cell_type": "code",
      "execution_count": null,
      "metadata": {
        "id": "SAa4nXjdmIIK",
        "outputId": "b71442f5-1d79-4198-c194-4061def1357f",
        "colab": {
          "base_uri": "https://localhost:8080/"
        }
      },
      "outputs": [
        {
          "output_type": "execute_result",
          "data": {
            "text/plain": [
              "(180, 4)"
            ]
          },
          "metadata": {},
          "execution_count": 30
        }
      ],
      "source": [
        "dC_dw.shape"
      ]
    },
    {
      "cell_type": "code",
      "execution_count": null,
      "metadata": {
        "id": "DpUo-ZxcmIIK"
      },
      "outputs": [],
      "source": [
        "dC_dw = dC_dw.mean(axis=0)"
      ]
    },
    {
      "cell_type": "code",
      "execution_count": null,
      "metadata": {
        "id": "y0O33klomIIK",
        "outputId": "bf501d33-1cae-4872-89d7-715e5676690f",
        "colab": {
          "base_uri": "https://localhost:8080/"
        }
      },
      "outputs": [
        {
          "output_type": "execute_result",
          "data": {
            "text/plain": [
              "array([0.70774513, 0.17663459, 0.8791528 , 0.32894605])"
            ]
          },
          "metadata": {},
          "execution_count": 32
        }
      ],
      "source": [
        "dC_dw"
      ]
    },
    {
      "cell_type": "code",
      "execution_count": null,
      "metadata": {
        "id": "YbBmHz0tmIIK",
        "outputId": "0fda3baf-2445-459a-f8ff-819fe4f523f2",
        "colab": {
          "base_uri": "https://localhost:8080/"
        }
      },
      "outputs": [
        {
          "output_type": "execute_result",
          "data": {
            "text/plain": [
              "numpy.ndarray"
            ]
          },
          "metadata": {},
          "execution_count": 33
        }
      ],
      "source": [
        "type(dC_dw)"
      ]
    },
    {
      "cell_type": "code",
      "execution_count": null,
      "metadata": {
        "id": "TcDs7C8BmIIL"
      },
      "outputs": [],
      "source": [
        "epocas = 50\n",
        "eta = 0.01\n",
        "erros = []\n",
        "accur = []\n",
        "for i in range(epocas):\n",
        "\n",
        "    pesos =  pesos - eta * dC_dw\n",
        "    bias = bias - eta * dC_db\n",
        "    \n",
        "    accur.append(acerto(X_test, y_test, pesos, bias)/20.)\n",
        "    erros.append(cost(X_train,y_train,pesos,bias))\n",
        "    dC_db = np.zeros(dC_db.shape)\n",
        "    dC_dw = np.zeros(dC_dw.shape)\n",
        "    dC_db = delta(X_train,y_train,pesos,bias).mean()\n",
        "    dC_dw = (X_train * delta(X_train,y_train,pesos,bias).T).mean(axis = 0)\n",
        "    \n",
        "    \n",
        "    "
      ]
    },
    {
      "cell_type": "markdown",
      "metadata": {
        "id": "4uA6-QltmIIL"
      },
      "source": [
        "## Demostrando a precisão."
      ]
    },
    {
      "cell_type": "code",
      "execution_count": null,
      "metadata": {
        "id": "kBhDmGk1mIIL"
      },
      "outputs": [],
      "source": [
        "accuracy = [0.6,0.6,0.6,0.6,0.65,1.0,1.0,1.0,1.0,1.0,1.0,1.0,1.0,1.0,1.0,1.0,1.0,1.0,1.0,1.0,\n",
        "            1.0,1.0,1.0,1.0,1.0,1.0,1.0,1.0,1.0,1.0,1.0,1.0,1.0,1.0,1.0,1.0,1.0,1.0,1.0,1.0,\n",
        "            1.0,1.0,1.0,1.0,1.0,1.0,1.0,1.0,1.0,1.0]"
      ]
    },
    {
      "cell_type": "markdown",
      "metadata": {
        "id": "0hLnD1ApmIIL"
      },
      "source": [
        "## Demostrando os valores de perda."
      ]
    },
    {
      "cell_type": "code",
      "execution_count": null,
      "metadata": {
        "id": "68r2UrN_mIIM"
      },
      "outputs": [],
      "source": [
        "losses = [1.8724578619003296,\n",
        " 1.8060956001281738,\n",
        " 1.6836249828338623,\n",
        " 1.4497419595718384,\n",
        " 1.1368271112442017,\n",
        " 0.9966248273849487,\n",
        " 0.9103770852088928,\n",
        " 0.8311571478843689,\n",
        " 0.7594887018203735,\n",
        " 0.6953334212303162,\n",
        " 0.638281524181366,\n",
        " 0.587727427482605,\n",
        " 0.542989194393158,\n",
        " 0.5033828020095825,\n",
        " 0.4682649075984955,\n",
        " 0.437052458524704,\n",
        " 0.4092298746109009,\n",
        " 0.38434818387031555,\n",
        " 0.362019807100296,\n",
        " 0.3419124186038971,\n",
        " 0.32374143600463867,\n",
        " 0.3072637617588043,\n",
        " 0.29227128624916077,\n",
        " 0.27858591079711914,\n",
        " 0.2660546898841858,\n",
        " 0.2545461058616638,\n",
        " 0.24394656717777252,\n",
        " 0.23415780067443848,\n",
        " 0.2250944823026657,\n",
        " 0.21668222546577454,\n",
        " 0.20885612070560455,\n",
        " 0.20155927538871765,\n",
        " 0.19474159181118011,\n",
        " 0.188358873128891,\n",
        " 0.1823720484972,\n",
        " 0.1767464578151703,\n",
        " 0.17145125567913055,\n",
        " 0.1664588302373886,\n",
        " 0.16174457967281342,\n",
        " 0.1572864055633545,\n",
        " 0.15306444466114044,\n",
        " 0.14906080067157745,\n",
        " 0.14525926113128662,\n",
        " 0.1416451781988144,\n",
        " 0.13820523023605347,\n",
        " 0.13492736220359802,\n",
        " 0.1318005919456482,\n",
        " 0.12881481647491455,\n",
        " 0.1259608268737793,\n",
        " 0.12323027849197388]"
      ]
    },
    {
      "cell_type": "markdown",
      "metadata": {
        "id": "67dK0J9rmIIM"
      },
      "source": [
        "## Os gráficos abaixo são uma comparação entre os códigos Numpy e Pytorch"
      ]
    },
    {
      "cell_type": "code",
      "execution_count": null,
      "metadata": {
        "scrolled": true,
        "id": "Udad_B-BmIIM",
        "outputId": "0540ec7c-daa3-4615-bd48-026ac115a634",
        "colab": {
          "base_uri": "https://localhost:8080/"
        }
      },
      "outputs": [
        {
          "output_type": "execute_result",
          "data": {
            "text/plain": [
              "<matplotlib.legend.Legend at 0x7f08ad1c36d0>"
            ]
          },
          "metadata": {},
          "execution_count": 37
        },
        {
          "output_type": "display_data",
          "data": {
            "text/plain": [
              "<Figure size 432x288 with 1 Axes>"
            ],
            "image/png": "[encoded data removed]"
          },
          "metadata": {
            "needs_background": "light"
          }
        }
      ],
      "source": [
        "x1 = x2 = range(epocas)\n",
        "y1 = erros\n",
        "y2 = np.array(losses)/2.\n",
        "plt.plot(x1, y1, label = 'Código_Numpy')\n",
        "plt.plot(x2, y2, label = 'Código_Pytorch')\n",
        "plt.legend()"
      ]
    },
    {
      "cell_type": "code",
      "execution_count": null,
      "metadata": {
        "id": "a52eAqlUmIIM",
        "outputId": "6299763b-6418-4226-9b41-a855ba2a8f5c",
        "colab": {
          "base_uri": "https://localhost:8080/"
        }
      },
      "outputs": [
        {
          "output_type": "execute_result",
          "data": {
            "text/plain": [
              "<matplotlib.legend.Legend at 0x7f08ad1c3b90>"
            ]
          },
          "metadata": {},
          "execution_count": 38
        },
        {
          "output_type": "display_data",
          "data": {
            "text/plain": [
              "<Figure size 432x288 with 1 Axes>"
            ],
            "image/png": "[encoded data removed]"
          },
          "metadata": {
            "needs_background": "light"
          }
        }
      ],
      "source": [
        "z1 = accur\n",
        "z2 = accuracy\n",
        "plt.plot(x1, z1, label = 'Código_Numpy')\n",
        "plt.plot(x2, z2, label = 'Código_Pytorch')\n",
        "plt.legend()"
      ]
    },
    {
      "cell_type": "code",
      "execution_count": null,
      "metadata": {
        "id": "ZLaiU7almIIN"
      },
      "outputs": [],
      "source": [
        ""
      ]
    }
  ],
  "metadata": {
    "kernelspec": {
      "display_name": "Python 3",
      "language": "python",
      "name": "python3"
    },
    "language_info": {
      "codemirror_mode": {
        "name": "ipython",
        "version": 3
      },
      "file_extension": ".py",
      "mimetype": "text/x-python",
      "name": "python",
      "nbconvert_exporter": "python",
      "pygments_lexer": "ipython3",
      "version": "3.8.8"
    },
    "latex_envs": {
      "LaTeX_envs_menu_present": true,
      "autoclose": false,
      "autocomplete": true,
      "bibliofile": "biblio.bib",
      "cite_by": "apalike",
      "current_citInitial": 1,
      "eqLabelWithNumbers": true,
      "eqNumInitial": 1,
      "hotkeys": {
        "equation": "Ctrl-E",
        "itemize": "Ctrl-I"
      },
      "labels_anchors": false,
      "latex_user_defs": false,
      "report_style_numbering": false,
      "user_envs_cfg": false
    },
    "colab": {
      "name": "UmNeuronSetosa.ipynb",
      "provenance": [],
      "include_colab_link": true
    }
  },
  "nbformat": 4,
  "nbformat_minor": 0
}